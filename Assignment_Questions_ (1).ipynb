{
  "cells": [
    {
      "cell_type": "markdown",
      "source": [
        "#            Python Basics\n",
        "\n",
        "---\n",
        "\n",
        "\n",
        "\n",
        "\n",
        "\n",
        "\n",
        "Q1. What is Python, and why is it popular?\n",
        "- Python is a high-level, interpreted, object-oriented programming language. It is widely used\n",
        "because:\n",
        "1. Simple & Readable Syntax – similar to English.\n",
        "2. Interpreted Language – executes line by line, easier for beginners.\n",
        "3. Cross-platform – runs on Windows, Mac, Linux.\n",
        "4. Large Standard Library – supports many built-in modules.\n",
        "5. Community Support – huge open-source community.\n",
        "6. Applications – AI, ML, Data Science, Web, Automation, etc.\n",
        "7. Free & Open Source – available to everyone without cost.\n",
        "\n",
        "Q2. What is an interpreter in Python?\n",
        "- An interpreter is a program that executes Python code line by line instead of compiling the whole\n",
        "program at once.\n",
        "- Works like a translator – converts Python code into machine code. - Helps in easy debugging.\n",
        "- Makes Python an interactive language (using IDLE or terminal).\n",
        "- Example: print(\"Hello\") → directly runs.\n",
        "Interpreter = reason why Python is called slow but beginner-friendly.\n",
        "\n",
        "Q3. What are pre-defined keywords in Python?\n",
        " - Keywords are reserved words with special meaning. - Cannot be used as variable names.\n",
        " - Example: if, else, while, True, False, import, etc.\n",
        " - Python has around 35 keywords (may vary by version).\n",
        "  - They help define the syntax and structure of the language.\n",
        "→ Without keywords, Python code cannot be understood by an interpreter.\n",
        "\n",
        "Q4. Can keywords be used as variable names?\n",
        " - No, Python does not allow keywords as variable names.\n",
        "  - Keywords are reserved for special tasks.\n",
        "   - Example:\n",
        "if = 10   ✖ Error\n",
        "my_if = 10  ✔Allowed\n",
        "- If used, the Python interpreter will raise a SyntaxError.\n",
        "→ Reason: to avoid confusion between user-defined variables and system-defined commands.\n",
        "\n",
        "Q5. What is mutability in Python?\n",
        "- Mutability means whether an object can be changed after creation.\n",
        "- Mutable objects: can be updated (list, dictionary, set).\n",
        "- Immutable objects: cannot be changed (tuple, string, integer).\n",
        " - Example:\n",
        "l = [1,2,3]; l[0] = 10   ✔ mutable\n",
        "t = (1,2,3); t[0] = 10   ✖ error\n",
        "→ Mutability is important for performance and memory management.\n",
        "\n",
        "Q6. Why are lists mutable, but tuples are immutable?\n",
        "\n",
        "1. Lists: Designed for dynamic data → insertion, deletion, modification allowed.\n",
        "2. Tuples: Designed for fixed data → used in read-only situations.\n",
        "3. Performance: Tuples are faster due to immutability.\n",
        "4. Memory: Tuples require less memory compared to lists.\n",
        "5. Hashability: Tuples can be used as dictionary keys, lists cannot.\n",
        "6. Data Safety: Tuples prevent accidental changes.\n",
        "7. Practical Use: Lists → when frequent updates needed, Tuples → when constant data required.\n",
        "\n",
        "Q7. Difference between '==' and 'is' operators in Python\n",
        " - '==' (Equality Operator): Compares values of objects.\n",
        " - 'is' (Identity Operator): Compares memory address (whether both refer to the same object).\n",
        "- Example:\n",
        "a = [1,2]; b = [1,2]\n",
        "print(a == b)  → True (same values)\n",
        "print(a is b)  → False (different objects)\n",
        "→ Important in object comparison and optimization.\n",
        "\n",
        "Q8. What are logical operators in Python?\n",
        "- Logical operators are used to combine conditions:\n",
        "1. and → returns True if both conditions are True.\n",
        "2. or → returns True if any condition is True.\n",
        "3. not → reverses the result (True → False, False → True).\n",
        "- Example:\n",
        "x, y = True, False\n",
        "print(x and y) → False\n",
        "print(x or y) → True\n",
        "print(not x) → False\n",
        "→ Widely used in conditional statements and loops.\n",
        "\n",
        "Q9. What is type casting in Python?\n",
        "- Type casting means converting one data type into another.\n",
        "- Implicit Casting → done automatically by Python.\n",
        "- Explicit Casting → done manually using functions like int(), float(), str().\n",
        "- Example:\n",
        "x = \"10\"\n",
        "print(int(x))   → 10\n",
        "print(float(x)) → 10.0\n",
        "→Useful in arithmetic operations and input handling.\n",
        "\n",
        "Q10. Difference between implicit and explicit type casting.\n",
        "1. Implicit Casting (Type Conversion): - Done automatically by Python. - Example: a = 5; b = 2.0; print(a+b) → 7.0\n",
        "2. Explicit Casting (Type Casting): - Done manually by a programmer. - Example: int(\"123\"), float(\"5.6\")\n",
        "→ Implicit = automatic, Explicit = manual.\n",
        "\n",
        "Q11. Purpose of conditional statements in Python.\n",
        " - Conditional statements control flow of execution.\n",
        " - Used to make decisions in programs.\n",
        "  - Types: if, if-else, if-elif-else.\n",
        "- Example:\n",
        "age = 18\n",
        "if age >= 18: print(\"Eligible to vote\")\n",
        "else: print(\"Not eligible\")\n",
        "→Without conditions, programs would always run sequentially.\n",
        "\n",
        "Q12. How does the elif statement work?\n",
        "- elif means 'else if'.\n",
        " - Used when there are multiple conditions.\n",
        " - Only one block executes (the first True condition).\n",
        "- Example:\n",
        "marks = 75\n",
        "if marks >= 90: print(\"A Grade\")\n",
        "elif marks >= 75: print(\"B Grade\")\n",
        "elif marks >= 60: print(\"C Grade\")\n",
        "else: print(\"Fail\")\n",
        "→ Avoids writing multiple nested if-else.\n",
        "\n",
        "Q13. Difference between for and while loops\n",
        "1. for loop: - Used when number of iterations is known.\n",
        "- Example: for i in range(5): print(i)\n",
        "2. while loop: - Used when iterations depend on condition.\n",
        "- Example: while x < 5: print(x)\n",
        "3. Comparison: - for = definite loop - while = indefinite loop\n",
        "→ Choice depends on problem type.\n",
        "\n",
        "Q14. Scenario where while loop is more suitable than for loop\n",
        "- Password check example: Keep asking the user until the correct password is entered.\n",
        "- ATM PIN Verification: Keep entering until valid PIN.\n",
        "- Games: Keep running until the player chooses to quit.\n",
        "- Example:\n",
        "password = \"\"\n",
        "while password != \"1234\":\n",
        "password = input(\"Enter password: \")\n",
        "print(\"Access granted\")\n",
        "→ Here, the number of iterations is unknown, so while is better."
      ],
      "metadata": {
        "id": "VpZc5JqxfuAL"
      },
      "id": "VpZc5JqxfuAL"
    },
    {
      "cell_type": "code",
      "execution_count": null,
      "id": "be77b758-ddc4-4c5f-86c5-8995ba3c9d77",
      "metadata": {
        "colab": {
          "base_uri": "https://localhost:8080/"
        },
        "id": "be77b758-ddc4-4c5f-86c5-8995ba3c9d77",
        "outputId": "7d7f6477-603a-4765-b2e1-05493b420cfa"
      },
      "outputs": [
        {
          "output_type": "stream",
          "name": "stdout",
          "text": [
            "hello world\n"
          ]
        }
      ],
      "source": [
        "#1. Write a Python program to print \"Hello, World!\n",
        "print (\"hello world\")\n"
      ]
    },
    {
      "cell_type": "code",
      "execution_count": null,
      "id": "deaa233b-35e6-4840-9389-acc6a1e10c75",
      "metadata": {
        "colab": {
          "base_uri": "https://localhost:8080/"
        },
        "id": "deaa233b-35e6-4840-9389-acc6a1e10c75",
        "outputId": "30c09f67-6408-4c27-9bc8-57e89233e9a6"
      },
      "outputs": [
        {
          "name": "stdout",
          "output_type": "stream",
          "text": [
            "what is your name: Himanshu\n",
            "what is your age: 21\n"
          ]
        }
      ],
      "source": [
        "#2. Write a Python program that displays your name and age\n",
        "\n",
        "# input use for input data from user\n",
        "name = (input(\"what is your name: \"))\n",
        "age = int(input(\"what is your age: \"))\n"
      ]
    },
    {
      "cell_type": "code",
      "execution_count": null,
      "id": "08787c21-1da2-43d1-9f40-93a890a3c60b",
      "metadata": {
        "colab": {
          "base_uri": "https://localhost:8080/"
        },
        "id": "08787c21-1da2-43d1-9f40-93a890a3c60b",
        "outputId": "7a06d798-ba1e-4b07-9c27-702ead201ac8"
      },
      "outputs": [
        {
          "output_type": "stream",
          "name": "stdout",
          "text": [
            "Python pre-defined keywords are:\n",
            "['False', 'None', 'True', 'and', 'as', 'assert', 'async', 'await', 'break', 'class', 'continue', 'def', 'del', 'elif', 'else', 'except', 'finally', 'for', 'from', 'global', 'if', 'import', 'in', 'is', 'lambda', 'nonlocal', 'not', 'or', 'pass', 'raise', 'return', 'try', 'while', 'with', 'yield']\n"
          ]
        }
      ],
      "source": [
        "#3.  Write code to print all the pre-defined keywords in Python using the keyword library\n",
        "\n",
        "# Import the keyword module\n",
        "import keyword\n",
        "\n",
        "# Print all pre-defined keywords in Python\n",
        "print(\"Python pre-defined keywords are:\")\n",
        "print(keyword.kwlist)\n"
      ]
    },
    {
      "cell_type": "code",
      "execution_count": null,
      "id": "a7de6a84-c9b2-49ef-bf29-2f692603cd56",
      "metadata": {
        "colab": {
          "base_uri": "https://localhost:8080/"
        },
        "id": "a7de6a84-c9b2-49ef-bf29-2f692603cd56",
        "outputId": "d47faa5e-7a01-4fb2-a461-9e9c8a3b2679"
      },
      "outputs": [
        {
          "output_type": "stream",
          "name": "stdout",
          "text": [
            "Enter a word to check if it is a Python keyword: break\n",
            "'break' is a Python keyword.\n"
          ]
        }
      ],
      "source": [
        "#4. Write a program that checks if a given word is a Python keyword.\n",
        "\n",
        "import keyword\n",
        "\n",
        "word = input(\"Enter a word to check if it is a Python keyword: \")\n",
        "\n",
        "# Check if the word is a Python keyword\n",
        "if keyword.iskeyword(word):\n",
        "    print(f\"'{word}' is a Python keyword.\")\n",
        "else:\n",
        "    print(f\"'{word}' is NOT a Python keyword.\")\n"
      ]
    },
    {
      "cell_type": "code",
      "execution_count": null,
      "id": "dc10a458-e700-4c98-b86b-b4a62de51f23",
      "metadata": {
        "colab": {
          "base_uri": "https://localhost:8080/"
        },
        "id": "dc10a458-e700-4c98-b86b-b4a62de51f23",
        "outputId": "e6932db4-8ceb-4619-efb3-14bfbd2f0382"
      },
      "outputs": [
        {
          "output_type": "stream",
          "name": "stdout",
          "text": [
            "Original list: [10, 20, 30]\n",
            "Modified list: [10, 200, 30]\n",
            "Original tuple: (10, 20, 30)\n",
            "Error while modifying tuple: 'tuple' object does not support item assignment\n"
          ]
        }
      ],
      "source": [
        "#5.Create a list and tuple in Python, and demonstrate how attempting to change an element works differently\n",
        "#for each.\n",
        "\n",
        "my_list = [10, 20, 30]\n",
        "print(\"Original list:\", my_list)\n",
        "\n",
        "# Changing an element in the list\n",
        "my_list[1] = 200\n",
        "print(\"Modified list:\", my_list)\n",
        "\n",
        "# Creating a tuple\n",
        "my_tuple = (10, 20, 30)\n",
        "print(\"Original tuple:\", my_tuple)\n",
        "\n",
        "# Attempting to change an element in the tuple\n",
        "try:\n",
        "    my_tuple[1] = 200\n",
        "except TypeError as e:\n",
        "    print(\"Error while modifying tuple:\", e)\n"
      ]
    },
    {
      "cell_type": "code",
      "execution_count": null,
      "id": "1fb5a2a7-9a5a-4e06-9fce-23e18e28e84d",
      "metadata": {
        "colab": {
          "base_uri": "https://localhost:8080/"
        },
        "id": "1fb5a2a7-9a5a-4e06-9fce-23e18e28e84d",
        "outputId": "c455266b-de04-4cda-895a-f574657a8e7d"
      },
      "outputs": [
        {
          "output_type": "stream",
          "name": "stdout",
          "text": [
            "Before function call:\n",
            "num = 50\n",
            "my_list = [10, 20, 30]\n",
            "Inside function, before modification:\n",
            "Immutable x = 50\n",
            "Mutable y = [10, 20, 30]\n",
            "Inside function, after modification:\n",
            "Immutable x = 60\n",
            "Mutable y = [10, 20, 30, 100]\n",
            "After function call:\n",
            "num = 50\n",
            "my_list = [10, 20, 30, 100]\n"
          ]
        }
      ],
      "source": [
        "#6.  Write a function to demonstrate the behavior of mutable and immutable arguments.\n",
        "\n",
        "def demo_behavior(x, y):\n",
        "    print(\"Inside function, before modification:\")\n",
        "    print(\"Immutable x =\", x)\n",
        "    print(\"Mutable y =\", y)\n",
        "\n",
        "    # Try to modify\n",
        "    x = x + 10      # Immutable, new object created\n",
        "    y.append(100)   # Mutable, original object modified\n",
        "\n",
        "    print(\"Inside function, after modification:\")\n",
        "    print(\"Immutable x =\", x)\n",
        "    print(\"Mutable y =\", y)\n",
        "\n",
        "# Immutable argument\n",
        "num = 50\n",
        "# Mutable argument\n",
        "my_list = [10, 20, 30]\n",
        "\n",
        "print(\"Before function call:\")\n",
        "print(\"num =\", num)\n",
        "print(\"my_list =\", my_list)\n",
        "\n",
        "\n",
        "# Call the function\n",
        "demo_behavior(num, my_list)\n",
        "\n",
        "\n",
        "print(\"After function call:\")\n",
        "print(\"num =\", num)         # Immutable remains unchanged\n",
        "print(\"my_list =\", my_list) # Mutable changes\n"
      ]
    },
    {
      "cell_type": "code",
      "execution_count": null,
      "id": "c3107772-c577-4830-8b1a-c82eb05d9c5f",
      "metadata": {
        "colab": {
          "base_uri": "https://localhost:8080/"
        },
        "id": "c3107772-c577-4830-8b1a-c82eb05d9c5f",
        "outputId": "82f41457-9a84-485d-b3bd-12b18b2f2a55"
      },
      "outputs": [
        {
          "output_type": "stream",
          "name": "stdout",
          "text": [
            "Enter the first number: 10\n",
            "Enter the second number: 2\n",
            "sum of two number is : 12\n",
            "subtract of two number is : 8\n",
            "multiply of two number is : 20\n",
            "divide of two number is : 5.0\n",
            "power: 100\n"
          ]
        }
      ],
      "source": [
        "#7. Write a program that performs basic arithmetic operations on two user-input numbers.\n",
        "\n",
        "# Athermetic operation\n",
        "num1 = int(input(\"Enter the first number: \" ))\n",
        "num2 = int(input(\"Enter the second number: \"))\n",
        "\n",
        "# Addition\n",
        "num3= num1+num2\n",
        "print (\"sum of two number is :\",num3)\n",
        "\n",
        "#subtraction\n",
        "num4 = num1-num2\n",
        "print (\"subtract of two number is :\",num4)\n",
        "\n",
        "#multiplication\n",
        "num5 = num1*num2\n",
        "print (\"multiply of two number is :\",num5)\n",
        "\n",
        "#division\n",
        "num6 = num1/num2\n",
        "print (\"divide of two number is :\",num6)\n",
        "\n",
        "#power\n",
        "num7 = num1 ** num2\n",
        "print(\"power:\",num7)"
      ]
    },
    {
      "cell_type": "code",
      "execution_count": null,
      "id": "1e37447f-5f27-46ad-8fef-0df61b3d16f4",
      "metadata": {
        "colab": {
          "base_uri": "https://localhost:8080/"
        },
        "id": "1e37447f-5f27-46ad-8fef-0df61b3d16f4",
        "outputId": "c544416a-1c3f-4fbc-c203-010c61dd70f4"
      },
      "outputs": [
        {
          "output_type": "stream",
          "name": "stdout",
          "text": [
            "Enter your marks: 85\n",
            "Enter your family income: 400000\n",
            "Eligible for scholarship: High marks AND low family income\n",
            "Eligible for partial benefits: High marks OR low family income\n",
            "Marks are NOT less than 50\n"
          ]
        }
      ],
      "source": [
        "#8. Write a program to demonstrate the use of logical operators.\n",
        "# Check if a person is eligible for a scholarship\n",
        "\n",
        "marks = int(input(\"Enter your marks: \"))\n",
        "income = int(input(\"Enter your family income: \"))\n",
        "\n",
        "# Using 'and' operator\n",
        "if marks >= 80 and income <= 500000:\n",
        "    print(\"Eligible for scholarship: High marks AND low family income\")\n",
        "else:\n",
        "    print(\"Not eligible using AND condition\")\n",
        "\n",
        "# Using 'or' operator\n",
        "if marks >= 80 or income <= 50000:\n",
        "    print(\"Eligible for partial benefits: High marks OR low family income\")\n",
        "else:\n",
        "    print(\"Not eligible using OR condition\")\n",
        "\n",
        "# Using 'not' operator\n",
        "if not(marks < 50):\n",
        "    print(\"Marks are NOT less than 50\")\n",
        "else:\n",
        "    print(\"Marks are less than 50\")\n",
        "\n"
      ]
    },
    {
      "cell_type": "code",
      "execution_count": null,
      "id": "c9ac0a75-e6ee-4f90-b59f-f7e19d853078",
      "metadata": {
        "colab": {
          "base_uri": "https://localhost:8080/"
        },
        "id": "c9ac0a75-e6ee-4f90-b59f-f7e19d853078",
        "outputId": "8e929012-0dab-4508-fb91-3644dbdfa5dd"
      },
      "outputs": [
        {
          "output_type": "stream",
          "name": "stdout",
          "text": [
            "Enter something: Himanshu\n",
            "Cannot convert to Integer.\n",
            "Cannot convert to Float.\n",
            "Boolean: True\n"
          ]
        }
      ],
      "source": [
        "#9. Write a Python program to convert user input from string to integer, float, and boolean types.\n",
        "\n",
        "# Get input from the user\n",
        "user_input = input(\"Enter something: \")\n",
        "\n",
        "# Convert to integer\n",
        "try:\n",
        "    int_value = int(user_input)\n",
        "    print(\"Integer:\", int_value)\n",
        "except ValueError:\n",
        "    print(\"Cannot convert to Integer.\")\n",
        "\n",
        "# Convert to float\n",
        "try:\n",
        "    float_value = float(user_input)\n",
        "    print(\"Float:\", float_value)\n",
        "except ValueError:\n",
        "    print(\"Cannot convert to Float.\")\n",
        "\n",
        "# Convert to boolean\n",
        "# Here, non-empty strings are True, empty string is False\n",
        "bool_value = bool(user_input)\n",
        "print(\"Boolean:\", bool_value)\n"
      ]
    },
    {
      "cell_type": "code",
      "execution_count": null,
      "id": "d94d4700-d9ba-4090-8c13-b2f57e558f3c",
      "metadata": {
        "colab": {
          "base_uri": "https://localhost:8080/"
        },
        "id": "d94d4700-d9ba-4090-8c13-b2f57e558f3c",
        "outputId": "650fc368-f5a8-41ea-9eb1-6880f99fc523"
      },
      "outputs": [
        {
          "output_type": "stream",
          "name": "stdout",
          "text": [
            "Original list (strings): ['10', '20', '30', '40.5', '50.0']\n",
            "Converted to integers: [10, 20, 30, 40, 50]\n",
            "Converted to floats: [10.0, 20.0, 30.0, 40.5, 50.0]\n"
          ]
        }
      ],
      "source": [
        "#10. Write code to demonstrate type casting with list elements.\n",
        "\n",
        "# Original list with string elements\n",
        "str_list = [\"10\", \"20\", \"30\", \"40.5\", \"50.0\"]\n",
        "\n",
        "print(\"Original list (strings):\", str_list)\n",
        "\n",
        "# Convert string elements to integers (where possible)\n",
        "int_list = []\n",
        "for item in str_list:\n",
        "    try:\n",
        "        int_list.append(int(float(item)))  # convert via float for \"40.5\" safely\n",
        "    except ValueError:\n",
        "        print(f\"Cannot convert {item} to int.\")\n",
        "\n",
        "print(\"Converted to integers:\", int_list)\n",
        "\n",
        "# Convert string elements to floats\n",
        "float_list = []\n",
        "for item in str_list:\n",
        "    try:\n",
        "        float_list.append(float(item))\n",
        "    except ValueError:\n",
        "        print(f\"Cannot convert {item} to float.\")\n",
        "\n",
        "print(\"Converted to floats:\", float_list)\n",
        "\n",
        "\n"
      ]
    },
    {
      "cell_type": "code",
      "execution_count": null,
      "id": "5999b36c-0449-47b1-8ff7-b570ad44aa18",
      "metadata": {
        "colab": {
          "base_uri": "https://localhost:8080/"
        },
        "id": "5999b36c-0449-47b1-8ff7-b570ad44aa18",
        "outputId": "6939de82-e5d6-4902-f38c-c5ef47268e5c"
      },
      "outputs": [
        {
          "output_type": "stream",
          "name": "stdout",
          "text": [
            "Enter the number5\n",
            "your number is positive\n"
          ]
        }
      ],
      "source": [
        "#11.Write a program that checks if a number is positive, negative, or zero.\n",
        "\n",
        "num = int(input(\"Enter the number\"))\n",
        "#negative\n",
        "if num <0:\n",
        "    print(\"your number is negative\")\n",
        "#positive\n",
        "elif num >0:\n",
        "    print(\"your number is positive\")\n",
        "#zero\n",
        "elif num==0:\n",
        "    print(\"number is zero\")"
      ]
    },
    {
      "cell_type": "code",
      "execution_count": null,
      "id": "3b64e638-980b-444a-b70b-45aa7c139c58",
      "metadata": {
        "colab": {
          "base_uri": "https://localhost:8080/"
        },
        "id": "3b64e638-980b-444a-b70b-45aa7c139c58",
        "outputId": "0ab5eea8-1d94-40aa-e51d-ddaa4f888a46"
      },
      "outputs": [
        {
          "output_type": "stream",
          "name": "stdout",
          "text": [
            "1\n",
            "2\n",
            "3\n",
            "4\n",
            "5\n",
            "6\n",
            "7\n",
            "8\n",
            "9\n",
            "10\n"
          ]
        }
      ],
      "source": [
        "#12. Write a for loop to print numbers from 1 to 10.\n",
        "\n",
        "#print the nuumber 1 to 10\n",
        "for i  in range(1,11):\n",
        "    print(i)"
      ]
    },
    {
      "cell_type": "code",
      "execution_count": null,
      "id": "4de8b558-b91c-41cc-981c-5e5948f50e6d",
      "metadata": {
        "colab": {
          "base_uri": "https://localhost:8080/"
        },
        "id": "4de8b558-b91c-41cc-981c-5e5948f50e6d",
        "outputId": "cd6d969a-d471-41d9-80a5-43deeba5a798"
      },
      "outputs": [
        {
          "output_type": "stream",
          "name": "stdout",
          "text": [
            "The sum of all even numbers between 1 and 50 is: 125\n"
          ]
        }
      ],
      "source": [
        "#13. Write a Python program to find the sum of all even numbers between 1 and 50.\n",
        "\n",
        "a = 0\n",
        "# Loop through numbers from 1 to 50\n",
        "for i in range(1, 51):\n",
        "    if i % 2 == 0:\n",
        "# Check if the number is even\n",
        "        a += num\n",
        "print(\"The sum of all even numbers between 1 and 50 is:\", a)\n"
      ]
    },
    {
      "cell_type": "code",
      "execution_count": null,
      "id": "5ba845a1-625f-4c45-8600-b27d14419b8b",
      "metadata": {
        "colab": {
          "base_uri": "https://localhost:8080/"
        },
        "id": "5ba845a1-625f-4c45-8600-b27d14419b8b",
        "outputId": "632fd058-d910-465a-cd78-432feb455852"
      },
      "outputs": [
        {
          "output_type": "stream",
          "name": "stdout",
          "text": [
            "Enter the string:Himanshu\n",
            "reversed string: uhsnamiH\n"
          ]
        }
      ],
      "source": [
        "#14. Write a program to reverse a string using a while loop.\n",
        "\n",
        "a= input(\"Enter the string:\")\n",
        "b = \"\"\n",
        "index= len(a)-1\n",
        "while index >= 0:\n",
        "    b +=a [index]\n",
        "    index -=1\n",
        "\n",
        "print(\"reversed string:\",b)\n"
      ]
    },
    {
      "cell_type": "code",
      "execution_count": null,
      "id": "e2021d45-1a91-4ff4-9b99-386bd1ce80bb",
      "metadata": {
        "colab": {
          "base_uri": "https://localhost:8080/"
        },
        "id": "e2021d45-1a91-4ff4-9b99-386bd1ce80bb",
        "outputId": "2156e109-eb2b-415a-ce33-54867f21350e"
      },
      "outputs": [
        {
          "output_type": "stream",
          "name": "stdout",
          "text": [
            "Enter the number:5\n",
            "The factorial of 5 is: 120\n"
          ]
        }
      ],
      "source": [
        " #15.Write a Python program to calculate the factorial of a number provided by the user using a while loop\n",
        "num= int(input(\"Enter the number:\"))\n",
        "factorial = 1\n",
        "i = 1\n",
        "\n",
        "# Calculate factorial using while loop\n",
        "while i <= num:\n",
        "    factorial *= i\n",
        "    i += 1\n",
        "\n",
        "print(f\"The factorial of {num} is: {factorial}\")\n"
      ]
    }
  ],
  "metadata": {
    "kernelspec": {
      "display_name": "Python 3 (ipykernel)",
      "language": "python",
      "name": "python3"
    },
    "language_info": {
      "codemirror_mode": {
        "name": "ipython",
        "version": 3
      },
      "file_extension": ".py",
      "mimetype": "text/x-python",
      "name": "python",
      "nbconvert_exporter": "python",
      "pygments_lexer": "ipython3",
      "version": "3.13.5"
    },
    "colab": {
      "provenance": []
    }
  },
  "nbformat": 4,
  "nbformat_minor": 5
}